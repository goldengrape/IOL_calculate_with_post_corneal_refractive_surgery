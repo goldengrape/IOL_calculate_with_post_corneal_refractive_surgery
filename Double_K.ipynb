{
 "cells": [
  {
   "cell_type": "markdown",
   "metadata": {},
   "source": [
    "# Double K 计算"
   ]
  },
  {
   "cell_type": "markdown",
   "metadata": {},
   "source": [
    "参考文献: [Intraocular lens power calculation after corneal refractive surgery: double-K method](sci-hub.tw/10.1016/s0886-3350(03)00957-x)"
   ]
  },
  {
   "cell_type": "markdown",
   "metadata": {},
   "source": [
    "The programming was done so that ELP calculation algorithms used Kpre and vergence formula algo- rithms used Kpost. The modified formula is shown in the Appendix. Independent variables were AL, Kpre, Kpost, and the A-constant of the IOL."
   ]
  },
  {
   "cell_type": "markdown",
   "metadata": {},
   "source": [
    "Double-K SRK/T Formula"
   ]
  },
  {
   "cell_type": "code",
   "execution_count": 12,
   "metadata": {
    "ExecuteTime": {
     "end_time": "2019-08-18T05:21:19.657843Z",
     "start_time": "2019-08-18T05:21:18.958865Z"
    }
   },
   "outputs": [],
   "source": [
    "import numpy as np"
   ]
  },
  {
   "cell_type": "markdown",
   "metadata": {},
   "source": [
    "## Equation 1: Preoperative corneal radius of curvature:"
   ]
  },
  {
   "cell_type": "markdown",
   "metadata": {},
   "source": [
    "$$\n",
    "r_{pre} = 337.5/Kpre\n",
    "\\tag 1\n",
    "$$"
   ]
  },
  {
   "cell_type": "code",
   "execution_count": 1,
   "metadata": {
    "ExecuteTime": {
     "end_time": "2019-08-18T05:05:05.732868Z",
     "start_time": "2019-08-18T05:05:05.726705Z"
    }
   },
   "outputs": [],
   "source": [
    "def r_pre(K_pre):\n",
    "    return 337.5/K_pre"
   ]
  },
  {
   "cell_type": "markdown",
   "metadata": {},
   "source": [
    "## Equation 2: Corrected axial length (LCOR):\n",
    "\n",
    "If $L \\le 24.2$, $ LCOR = L$ \n",
    "\n",
    "If $L \\gt 24.2$, $ LCOR = -3.446 + 1.716 \\times L - 0.0237 \\times L^2$\n"
   ]
  },
  {
   "cell_type": "code",
   "execution_count": 2,
   "metadata": {
    "ExecuteTime": {
     "end_time": "2019-08-18T05:08:50.218623Z",
     "start_time": "2019-08-18T05:08:50.208799Z"
    }
   },
   "outputs": [],
   "source": [
    "def LCOR(L):\n",
    "    if L <=24.2:\n",
    "        return L\n",
    "    else:\n",
    "        return -3.446+1.716*𝐿-0.0237*(L**2)"
   ]
  },
  {
   "cell_type": "markdown",
   "metadata": {},
   "source": [
    "## Equation 3: Computed corneal width (Cw):\n",
    "$$\n",
    "Cw = -5.41 + 0.58412 \\times LCOR + 0.098 \\times Kpre\n",
    "\\tag 3\n",
    "$$"
   ]
  },
  {
   "cell_type": "code",
   "execution_count": 9,
   "metadata": {
    "ExecuteTime": {
     "end_time": "2019-08-18T05:20:59.796533Z",
     "start_time": "2019-08-18T05:20:59.786276Z"
    }
   },
   "outputs": [],
   "source": [
    "def Cw(L, K_pre):\n",
    "    return -5.41+0.58412* LCOR(L)+0.098*K_pre"
   ]
  },
  {
   "cell_type": "markdown",
   "metadata": {},
   "source": [
    "## Equation 4: Corneal height (H):\n",
    "$$\n",
    "H = r_{pre} - \\sqrt {r_{pre}2 - (Cw2/4)}\n",
    "\\tag {4.0}\n",
    "$$\n",
    "原文如上, 但$r_{pre}2 - (Cw2/4)$ 看起来很诡异, 估计是平方项的打印错误. 故修改成\n",
    "$$\n",
    "H = r_{pre} - \\sqrt {r_{pre}^2 - (Cw^2/4)}\n",
    "\\tag {4.1}\n",
    "$$"
   ]
  },
  {
   "cell_type": "code",
   "execution_count": 26,
   "metadata": {
    "ExecuteTime": {
     "end_time": "2019-08-18T05:51:18.549963Z",
     "start_time": "2019-08-18T05:51:18.534749Z"
    }
   },
   "outputs": [],
   "source": [
    "def H(L, K_pre):\n",
    "    r=r_pre(K_pre)\n",
    "    c=Cw(L,K_pre)\n",
    "    rc=r**2-(c**2/4) if (r**2-(c**2/4))>=0 else 0\n",
    "    return r-np.sqrt(r**2-(c**2/4))\n",
    "    "
   ]
  },
  {
   "cell_type": "markdown",
   "metadata": {},
   "source": [
    "## Equation 5: Offset value:\n",
    "$$\n",
    "\\text { Offset }=\\mathrm{ACD}_{\\text {const }}-3.336\n",
    "\\tag 5\n",
    "$$"
   ]
  },
  {
   "cell_type": "code",
   "execution_count": 15,
   "metadata": {
    "ExecuteTime": {
     "end_time": "2019-08-18T05:22:53.498484Z",
     "start_time": "2019-08-18T05:22:53.493954Z"
    }
   },
   "outputs": [],
   "source": [
    "def offset(ACD_const):\n",
    "    return ACD_const-3.336"
   ]
  },
  {
   "cell_type": "markdown",
   "metadata": {},
   "source": [
    "## Equation 6: Estimated postoperative ELP (ACD):\n",
    "$$\n",
    "\\mathrm{ACD}_{\\mathrm{est}}=\\mathrm{H}+\\text { Offset }\n",
    "\\tag 6\n",
    "$$"
   ]
  },
  {
   "cell_type": "code",
   "execution_count": 16,
   "metadata": {
    "ExecuteTime": {
     "end_time": "2019-08-18T05:24:37.742902Z",
     "start_time": "2019-08-18T05:24:37.736981Z"
    }
   },
   "outputs": [],
   "source": [
    "def ACD_est(L,K_pre, ACD_const):\n",
    "    return H(L,K_pre)+offset(ACD_const)"
   ]
  },
  {
   "cell_type": "markdown",
   "metadata": {},
   "source": [
    "## Equation 7: Constants:\n",
    "$$\n",
    "\\mathrm{V}=12 ; \\mathrm{n}_{\\mathrm{a}}=1.336 ; \\mathrm{n}_{\\mathrm{c}}=1.333 ; \\mathrm{n}_{\\mathrm{c}} \\mathrm{m} 1=0.333\n",
    "\\tag 7\n",
    "$$"
   ]
  },
  {
   "cell_type": "code",
   "execution_count": 19,
   "metadata": {
    "ExecuteTime": {
     "end_time": "2019-08-18T05:28:05.164143Z",
     "start_time": "2019-08-18T05:28:05.157757Z"
    }
   },
   "outputs": [],
   "source": [
    "def get_constants():\n",
    "    constants[\"V\"]=12\n",
    "    constants[\"n_a\"]=1.336\n",
    "    constants[\"n_c\"]=1.333\n",
    "    constants[\"n_c_m1\"]=0.333 #n_c minus 1\n",
    "    return constants"
   ]
  },
  {
   "cell_type": "markdown",
   "metadata": {},
   "source": [
    "## Equation 8: Retinal thickness (RETHICK) and optical axial length (LOPT):\n",
    "$$\n",
    "\\begin{array}{c}{\\mathrm{RETHCK}=0.65696-0.02029 \\times \\mathrm{L}} \\\\ {\\mathrm{LOPT}=\\mathrm{L}+\\mathrm{RETHICK}}\\end{array}\n",
    "\\tag 8\n",
    "$$"
   ]
  },
  {
   "cell_type": "code",
   "execution_count": 20,
   "metadata": {
    "ExecuteTime": {
     "end_time": "2019-08-18T05:29:48.422228Z",
     "start_time": "2019-08-18T05:29:48.417666Z"
    }
   },
   "outputs": [],
   "source": [
    "def RETHICK(L):\n",
    "    return 0.65696 - 0.02029*L\n",
    "def LOPT(L):\n",
    "    return L+RETHICK(L)"
   ]
  },
  {
   "cell_type": "markdown",
   "metadata": {},
   "source": [
    "## Equation 9: Postoperative corneal radius of curvature:\n",
    "$$\n",
    "\\mathrm{r}_{\\mathrm{post}}=337.5 / \\mathrm{Kpost}\n",
    "\\tag 9\n",
    "$$"
   ]
  },
  {
   "cell_type": "code",
   "execution_count": 21,
   "metadata": {
    "ExecuteTime": {
     "end_time": "2019-08-18T05:32:01.858890Z",
     "start_time": "2019-08-18T05:32:01.854739Z"
    }
   },
   "outputs": [],
   "source": [
    "def r_post(K_post):\n",
    "    return 337.5/K_post"
   ]
  },
  {
   "cell_type": "markdown",
   "metadata": {},
   "source": [
    "## Equation 10: Emmetropia IOL power (IOLemme):\n",
    "![](https://cdn.mathpix.com/snip/images/DNc7H0lZaoQr2q_JkxvlJ-D7fF0VV7qTpijZ3ygemls.original.fullsize.png)"
   ]
  },
  {
   "cell_type": "markdown",
   "metadata": {},
   "source": [
    "$$\n",
    "IOL_{emme}= \\frac {1000 \\times n_a \\times ( n \\times r_{post} -n_cm1 \\times LOPT)} {(LOPT-ACD_{est}) \\times (n_a \\times r_{post} -n_cm1 \\times ACD_{est})}\n",
    "$$"
   ]
  },
  {
   "cell_type": "code",
   "execution_count": null,
   "metadata": {},
   "outputs": [],
   "source": [
    "def S(L,K_pre,K_post,ACD_const):\n",
    "    S1=LOPT()-ACD_est\n",
    "    S2=n_a*r_post-c2*ACD_est\n",
    "    S3=n_a*r_post-c2*LOPT\n",
    "    S4=V*S3+LOPT*r_post\n",
    "    S5=V*S2+ACD_est*r_post"
   ]
  },
  {
   "cell_type": "code",
   "execution_count": 25,
   "metadata": {
    "ExecuteTime": {
     "end_time": "2019-08-18T05:45:15.558232Z",
     "start_time": "2019-08-18T05:45:15.550074Z"
    }
   },
   "outputs": [],
   "source": [
    "def IOL_emme(L,K_pre,K_post,ACD_const):\n",
    "    constants=get_constants()\n",
    "    n_a=constants[\"n_a\"]\n",
    "    n = constants[\"n_a\"] # who knows what is n ??? \n",
    "    n_cm1=constants[\"n_cm1\"]\n",
    "    numerator=1000*n_a*( n*r_post(K_post) -n_cm1*LOPT(L) )\n",
    "    denominator=( LOPT(L)-ACD_est(L,K_pre, ACD_const) ) * \\\n",
    "                (n_a*r_post(K_post) -n_cm1*ACD_est(L,K_pre, ACD_const) )\n",
    "    return numerator/denominator"
   ]
  },
  {
   "cell_type": "code",
   "execution_count": null,
   "metadata": {},
   "outputs": [],
   "source": []
  }
 ],
 "metadata": {
  "kernelspec": {
   "display_name": "Python 3",
   "language": "python",
   "name": "python3"
  },
  "language_info": {
   "codemirror_mode": {
    "name": "ipython",
    "version": 3
   },
   "file_extension": ".py",
   "mimetype": "text/x-python",
   "name": "python",
   "nbconvert_exporter": "python",
   "pygments_lexer": "ipython3",
   "version": "3.6.8"
  },
  "toc": {
   "colors": {
    "hover_highlight": "#DAA520",
    "navigate_num": "#000000",
    "navigate_text": "#333333",
    "running_highlight": "#FF0000",
    "selected_highlight": "#FFD700",
    "sidebar_border": "#EEEEEE",
    "wrapper_background": "#FFFFFF"
   },
   "moveMenuLeft": true,
   "nav_menu": {
    "height": "256px",
    "width": "254px"
   },
   "navigate_menu": true,
   "number_sections": true,
   "sideBar": true,
   "threshold": 4,
   "toc_cell": false,
   "toc_section_display": "block",
   "toc_window_display": false,
   "widenNotebook": false
  }
 },
 "nbformat": 4,
 "nbformat_minor": 2
}
