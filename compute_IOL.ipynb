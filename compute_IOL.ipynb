{
 "cells": [
  {
   "cell_type": "markdown",
   "metadata": {},
   "source": [
    "# IOL 计算"
   ]
  },
  {
   "cell_type": "code",
   "execution_count": 4,
   "metadata": {
    "ExecuteTime": {
     "end_time": "2019-08-18T06:34:56.706105Z",
     "start_time": "2019-08-18T06:34:56.304824Z"
    }
   },
   "outputs": [],
   "source": [
    "import numpy as np"
   ]
  },
  {
   "cell_type": "code",
   "execution_count": 16,
   "metadata": {
    "ExecuteTime": {
     "end_time": "2019-08-18T06:52:42.571436Z",
     "start_time": "2019-08-18T06:52:42.560070Z"
    }
   },
   "outputs": [],
   "source": [
    "def Double_K_SRK_T(AL, Kpre, Kpost, A,REFt ):\n",
    "#   Correction Axial Length: Lcor\n",
    "    Lcor = AL if AL<=24.2 else (-3.446 + (1.716 * AL) - (0.0237 * AL**2))\n",
    "#   Corneal curvatures, 2 Keratometry values are used:  \n",
    "#   Pre corneal refractive surgery:\n",
    "    Rpre = 337.5 / Kpre \n",
    "    # Kpre = 337.5 / Rpre\n",
    "#   Post corneal refractive surgery:  \n",
    "    Rpost = 337.5 / Kpost   \n",
    "    # Kpost = 337.5 / Rpost\n",
    "#   Calculations with Kpre or Rpre:  \n",
    "#   Computed corneal width: CW    \n",
    "    CW = -5.40948 + 0.58412 * Lcor + 0.098 * Kpre\n",
    "#   Corneal Height: H \n",
    "    Rc = (Rpre**2 - CW**2 / 4) \n",
    "    Rc = 0 if Rc<0 else Rc\n",
    "    H = Rpre - np.sqrt(Rc)\n",
    "#   Anterior Chamber Depth Constant: ACDconst  \n",
    "    ACDconst = 0.62467 * A - 68.74709\n",
    "#   Estimated Post-operatice ACD: ACDest   \n",
    "    Offset = ACDconst - 3.3357\n",
    "    ACDest = H + Offset\n",
    "#   Constants: \n",
    "    na = 1.336; V = 12; nc = 1.333; C2 = nc -  1\n",
    "#   Retinal thickness:  \n",
    "    Rethick = 0.65696 - 0.02029 * AL\n",
    "#   Optical Axial Length: \n",
    "    L0PT = AL + Rethick   \n",
    "#   Calculations with Kpost or Rpost: \n",
    "    S1 = L0PT - ACDest \n",
    "    S2 = na * Rpost - C2 * ACDest \n",
    "    S3 = na * Rpost - C2 * L0PT  \n",
    "    S4 = V * S3 + L0PT * Rpost \n",
    "    S5 = V * S2 + ACDest * Rpost\n",
    "    \n",
    "    IOL_emme= 1336 * S3 / (S1*S2)\n",
    "#     REF_X=(1336* S3- IOL* S1* S2)/(1.336*S4-0.001*IOL*S1*S5)\n",
    "    IOL_for_tgt=(1336* (S3-0.001*REFt*S4))/ \\\n",
    "                (S1*(S2-0.001*REFt*S5))\n",
    "    return IOL_for_tgt"
   ]
  },
  {
   "cell_type": "code",
   "execution_count": 108,
   "metadata": {
    "ExecuteTime": {
     "end_time": "2019-08-18T17:06:52.575320Z",
     "start_time": "2019-08-18T17:06:52.567897Z"
    }
   },
   "outputs": [],
   "source": [
    "def SRK_T_Rc(AL, Kd,A,REFt):\n",
    "    #  Retinal thickness: \n",
    "    Rethick = 0.65696 - 0.02029 * AL\n",
    "    Lc = AL if (AL <= 24.2) else (-3.446 + (1.716 * AL) - (0.0237 * AL**2 ) )\n",
    "#     Kd = 337.5 / Rmm \n",
    "    Rmm = 337.5 / Kd\n",
    "    C1 = -5.40948 + 0.58412 * Lc + 0.098 * Kd\n",
    "    Rc = Rmm**2 - (C1**2) / 4 \n",
    "    return Rc"
   ]
  },
  {
   "cell_type": "code",
   "execution_count": 109,
   "metadata": {
    "ExecuteTime": {
     "end_time": "2019-08-18T17:06:53.227568Z",
     "start_time": "2019-08-18T17:06:53.215956Z"
    }
   },
   "outputs": [],
   "source": [
    "def SRK_T(AL,Kd,A,REFt):\n",
    "#     Retinal thickness: \n",
    "    Rethick = 0.65696 - 0.02029 * AL\n",
    "    Lc = AL if (AL <= 24.2) else (-3.446 + (1.716 * AL) - (0.0237 * AL**2 ) )\n",
    "#     Kd = 337.5 / Rmm \n",
    "    Rmm = 337.5 / Kd\n",
    "    C1 = -5.40948 + 0.58412 * Lc + 0.098 * Kd\n",
    "    Rc = Rmm**2 - (C1**2) / 4 \n",
    "    Rc = 0 if SRK_T_Rc(AL, Kd,A,REFt) < 0 else Rc\n",
    "    C2 = Rmm - np.sqrt(Rc)\n",
    "    ACD = 0.62467 * A - 68.74709\n",
    "    ACDE = C2 + ACD - 3.3357\n",
    "    n1 = 1.336\n",
    "    n2 = 0.333\n",
    "    L0 = AL + Rethick\n",
    "    S1 = L0 - ACDE     \n",
    "    S2 = n1 * Rmm - n2 * ACDE  \n",
    "    S3 = n1 * Rmm - n2 * L0   \n",
    "    S4 = 12 * S3 + L0 * Rmm  \n",
    "    S5 = 12 * S2 + ACDE * Rmm\n",
    "#     REF_X = (1336 * S3 −  IOL * S1 * S2)/ \\\n",
    "#             (1.336 * S4 −  0.001 * IOL * S1 * S5)\n",
    "    IOL_FOR_TGT =(1336 * (S3 -  0.001 * REFt * S4))/\\\n",
    "                  (S1 * (S2 -  0.001 * REFt * S5))\n",
    "    return IOL_FOR_TGT"
   ]
  },
  {
   "cell_type": "code",
   "execution_count": 42,
   "metadata": {
    "ExecuteTime": {
     "end_time": "2019-08-18T10:12:01.138894Z",
     "start_time": "2019-08-18T10:12:01.114889Z"
    }
   },
   "outputs": [],
   "source": [
    "def HOFFER_Q(AL, K, ACD, Rx):\n",
    "    def tan(x):\n",
    "        x=np.radians(x)\n",
    "        return np.tan(x)\n",
    "#     CORRECTED CHAMBER DEPTH\n",
    "    if AL<=23:\n",
    "        M = +1; G = 28 \n",
    "    elif AL > 23:\n",
    "        M =-1;  G=23.5\n",
    "    if AL > 31:\n",
    "        AL = 31 \n",
    "    elif AL < 18.5:\n",
    "        AL = 18.5\n",
    "    \n",
    "    CD = ACD + 0.3* (AL - 23.5) \n",
    "    CD += (tan(K))**2\n",
    "    CD += 0.1*M*(23.5-AL)** 2*tan(0.1*(G - AL)**2) - 0.99166\n",
    "#     EMMETROPIA POWER:\n",
    "    R = Rx / (1 - 0.012 * Rx)  \n",
    "    P = (1336 / (AL - CD - 0.05)) - (1.336 / ((1.336 / (K + R)) - ((CD + 0.05) / 1000)))\n",
    "    return P\n",
    "                                     "
   ]
  },
  {
   "cell_type": "code",
   "execution_count": 48,
   "metadata": {
    "ExecuteTime": {
     "end_time": "2019-08-18T12:05:34.342232Z",
     "start_time": "2019-08-18T12:05:34.330794Z"
    }
   },
   "outputs": [],
   "source": [
    "def shammas(Kpost,L, A, R):\n",
    "#     https://sci-hub.tw/10.1016/j.jcrs.2006.08.045\n",
    "#     KERATOMETRY CORRECTION:  \n",
    "    KS = 1.14 * Kpost - 6.8 \n",
    "#     Where Kpost is the measurement of the Keratometry by classical means.\n",
    "    C =  0.5835*A - 64.40 # ACD (Shammas) =\n",
    "#     FORMULA TO CALCULATE THE IMPLANT CORRESPONDING TO THE DESIRED REFRACTION (R):\n",
    "    K=KS\n",
    "    IOLAm = 1336 / (L -  0.1* (L -  23) -  C - 0.05) - \\\n",
    "            1 /( 1.0125/ (K + R) -  (C +  0.05) / 1336 )\n",
    "    return IOLAm"
   ]
  },
  {
   "cell_type": "code",
   "execution_count": 87,
   "metadata": {
    "ExecuteTime": {
     "end_time": "2019-08-18T16:24:15.491184Z",
     "start_time": "2019-08-18T16:24:15.466168Z"
    }
   },
   "outputs": [],
   "source": [
    "def Haigis(R,AC,L,A,Rx, a0=None,a1=0.400,a2=0.100):\n",
    "#     IOL power for given refraction Dl:  All calculations are based on the \"Thin-lens-formula\":\n",
    "#     Dl  IOL power \n",
    "#     Dc  corneal power \n",
    "#     Rx  desired refraction \n",
    "#     n  refractive index of aequeous and vitreous (=1.366) # here should be 1.336\n",
    "#     Nc  fictitious refractive index of cornea (=1.3315) \n",
    "#     Dx  vertex distance between cornea and spectacles (=12 mm) \n",
    "#     R  corneal radius \n",
    "#     L  axial length (as measured by ultrasound) \n",
    "#     d  optical ACD\n",
    "\n",
    "#     AC : preoperative acoustical anterior chamber depth, as measured by ultrasound    \n",
    "#     L: preoperative axial length, as measured by ultrasound\n",
    "    if a0==None:\n",
    "        a0=0.62467 * A - 72.434\n",
    "    u = -0.241  \n",
    "    v = 0.139\n",
    "    if AC==0:\n",
    "        d = (a0 + u*a1) + (a2 + v*a1)*L  \n",
    "    else:\n",
    "        d = a0 +a1*AC + a2*L\n",
    "    n=1.336; Nc=1.3315; \n",
    "    # convert mm to meter\n",
    "    Dx=12/1000;\n",
    "    R=R/1000\n",
    "    AC=AC/1000\n",
    "    L=L/1000\n",
    "    d=d/1000\n",
    "    \n",
    "    Dc=(Nc-1)/(R)\n",
    "    z=Dc+Rx/(1-Rx*Dx)\n",
    "    Dl=n/(L-d) - n/ (n/z -d)\n",
    "    \n",
    "    return Dl"
   ]
  },
  {
   "cell_type": "code",
   "execution_count": 95,
   "metadata": {
    "ExecuteTime": {
     "end_time": "2019-08-18T16:31:13.728863Z",
     "start_time": "2019-08-18T16:31:13.714461Z"
    }
   },
   "outputs": [],
   "source": [
    "def Haigis_L(R,AC,L,A,Rx, a0=None,a1=0.400,a2=0.100):\n",
    "    R_corr=331.5/(-5.1625*R+82.2603-0.35)\n",
    "    return Haigis(R_corr,AC,L,A,Rx,a0,a1,a2)"
   ]
  },
  {
   "cell_type": "code",
   "execution_count": 106,
   "metadata": {
    "ExecuteTime": {
     "end_time": "2019-08-18T17:00:16.870998Z",
     "start_time": "2019-08-18T17:00:16.858625Z"
    }
   },
   "outputs": [],
   "source": [
    "def BESST(rF,rB,CCT, AL, ACD, A,Rx):\n",
    "#     https://sci-hub.tw/10.1016/j.jcrs.2006.08.037\n",
    "    n_air=1\n",
    "    n_vc=1.3265\n",
    "    n_CCT=n_vc+(CCT*0.000022)\n",
    "    k_conv=337.5/rF\n",
    "    if  k_conv<37.5:\n",
    "        n_adj=n_CCT+0.017\n",
    "    elif k_conv<41.44:\n",
    "        n_adj=n_CCT\n",
    "    elif k_conv<45:\n",
    "        n_adj=n_CCT-0.015\n",
    "    else:\n",
    "        n_adj=n_CCT\n",
    "    n_acq= 1.336\n",
    "    d_cct=CCT/1000000\n",
    "    d=d_cct/n_vc\n",
    "    Fant=1/rF*(n_vc-n_air)\n",
    "    Fpost=1/rB*(n_acq-n_vc)\n",
    "    \n",
    "#   corneal power in virgin corneas[D]\n",
    "    BESSt_vc_K=((1/rF*(n_vc-n_air))\n",
    "                +(1/rB*(n_acq-n_vc))\n",
    "                -(d*1/rF*(n_vc-n_air)\n",
    "                *1/rB*(n_acq-n_vc)))*1000\n",
    "#   corneal power after keratorefractive surgery[D]\n",
    "    BESSt_K=((1/rF*(n_adj-n_air))\n",
    "             +(1/rB*(n_acq-n_adj))\n",
    "             -(d*1/rF*(n_adj-n_air)\n",
    "               *1/rB*(n_acq-n_adj)))*1000\n",
    "    \n",
    "\n",
    "    K=BESSt_K\n",
    "    \n",
    "    if (AL<=22.0 or SRK_T_Rc(AL, K,A,Rx)<=0):\n",
    "        IOL=HOFFER_Q(AL, K, ACD, Rx)\n",
    "    else:\n",
    "        IOL=SRK_T(AL,K,A,Rx)\n",
    "    \n",
    "    return IOL   "
   ]
  },
  {
   "cell_type": "code",
   "execution_count": null,
   "metadata": {},
   "outputs": [],
   "source": []
  }
 ],
 "metadata": {
  "kernelspec": {
   "display_name": "Python 3",
   "language": "python",
   "name": "python3"
  },
  "language_info": {
   "codemirror_mode": {
    "name": "ipython",
    "version": 3
   },
   "file_extension": ".py",
   "mimetype": "text/x-python",
   "name": "python",
   "nbconvert_exporter": "python",
   "pygments_lexer": "ipython3",
   "version": "3.6.8"
  },
  "toc": {
   "colors": {
    "hover_highlight": "#DAA520",
    "navigate_num": "#000000",
    "navigate_text": "#333333",
    "running_highlight": "#FF0000",
    "selected_highlight": "#FFD700",
    "sidebar_border": "#EEEEEE",
    "wrapper_background": "#FFFFFF"
   },
   "moveMenuLeft": true,
   "nav_menu": {
    "height": "26px",
    "width": "254px"
   },
   "navigate_menu": true,
   "number_sections": true,
   "sideBar": true,
   "threshold": 4,
   "toc_cell": false,
   "toc_section_display": "block",
   "toc_window_display": false,
   "widenNotebook": false
  }
 },
 "nbformat": 4,
 "nbformat_minor": 2
}
